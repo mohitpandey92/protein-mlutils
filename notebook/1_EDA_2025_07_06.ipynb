{
 "cells": [
  {
   "cell_type": "code",
   "execution_count": 1,
   "id": "b42eda6d",
   "metadata": {},
   "outputs": [],
   "source": [
    "import sklearn\n",
    "import pandas as pd\n",
    "import numpy as np\n",
    "import torch\n",
    "import torch.nn as nn\n",
    "\n",
    "from sklearn.model_selection import train_test_split"
   ]
  },
  {
   "cell_type": "code",
   "execution_count": null,
   "id": "5c15e29c",
   "metadata": {},
   "outputs": [],
   "source": []
  },
  {
   "cell_type": "code",
   "execution_count": 2,
   "id": "ff4c55d6",
   "metadata": {},
   "outputs": [],
   "source": [
    "protein_df=pd.read_csv(\"../data/A0A2Z5U3Z0_9INFA_Doud_2016.csv\")\n",
    "protein_df.rename(columns={\"mutated_sequence\": \"protein_sequence\"}, inplace=True)"
   ]
  },
  {
   "cell_type": "code",
   "execution_count": 3,
   "id": "7f68e31b",
   "metadata": {},
   "outputs": [],
   "source": [
    "#check if the protein_sequence column has unique values\n",
    "assert len(protein_df['protein_sequence'].unique()) == len(protein_df), \"The 'protein_sequence' column does not have unique values\"\n"
   ]
  },
  {
   "cell_type": "code",
   "execution_count": 42,
   "id": "617294ce",
   "metadata": {},
   "outputs": [
    {
     "name": "stdout",
     "output_type": "stream",
     "text": [
      "[[1 0 0 0 0 0 0 0 0 0 0 0 0 0 0 0 0 0 0 0 0 0 1 0 0 0 0 0 0 0 0 0 0 0 0 0\n",
      "  0 0 0 0 0 0 0 1 0 0 0 0 0 0 0 0 0 0 0 0 0 0 0 0 0 0 0]\n",
      " [1 0 0 0 0 0 0 0 0 0 0 0 0 0 0 0 0 0 0 0 0 1 0 0 0 0 0 0 0 0 0 0 0 0 0 0\n",
      "  0 0 0 0 0 0 1 0 0 0 0 0 0 0 0 0 0 0 0 0 0 0 0 0 0 0 0]]\n"
     ]
    }
   ],
   "source": [
    "sequence=[\"ACC\", \"AAA\"]\n",
    "max_length = 3\n",
    "one_hot = protein_one_hot_encoder(sequence, max_length)\n",
    "print(one_hot)"
   ]
  },
  {
   "cell_type": "code",
   "execution_count": 44,
   "id": "e494306d",
   "metadata": {},
   "outputs": [],
   "source": [
    "embedding_arr, embedding_weights=protein_embedding_generator(sequence, max_length, embedding_dim=5, flatten=False)"
   ]
  },
  {
   "cell_type": "code",
   "execution_count": null,
   "id": "65985885",
   "metadata": {},
   "outputs": [],
   "source": []
  }
 ],
 "metadata": {
  "kernelspec": {
   "display_name": "ML_env",
   "language": "python",
   "name": "python3"
  },
  "language_info": {
   "codemirror_mode": {
    "name": "ipython",
    "version": 3
   },
   "file_extension": ".py",
   "mimetype": "text/x-python",
   "name": "python",
   "nbconvert_exporter": "python",
   "pygments_lexer": "ipython3",
   "version": "3.12.2"
  }
 },
 "nbformat": 4,
 "nbformat_minor": 5
}
