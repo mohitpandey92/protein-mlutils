{
 "cells": [
  {
   "cell_type": "code",
   "execution_count": 1,
   "id": "b42eda6d",
   "metadata": {},
   "outputs": [],
   "source": [
    "import sklearn\n",
    "import pandas as pd\n",
    "\n",
    "\n",
    "from sklearn.model_selection import train_test_split"
   ]
  },
  {
   "cell_type": "code",
   "execution_count": 2,
   "id": "ff4c55d6",
   "metadata": {},
   "outputs": [],
   "source": [
    "protein_df=pd.read_csv(\"../data/A0A2Z5U3Z0_9INFA_Doud_2016.csv\")\n",
    "protein_df.rename(columns={\"mutated_sequence\": \"protein_sequence\"}, inplace=True)"
   ]
  },
  {
   "cell_type": "code",
   "execution_count": 3,
   "id": "7f68e31b",
   "metadata": {},
   "outputs": [],
   "source": [
    "#check if the protein_sequence column has unique values\n",
    "assert len(protein_df['protein_sequence'].unique()) == len(protein_df), \"The 'protein_sequence' column does not have unique values\"\n"
   ]
  },
  {
   "cell_type": "code",
   "execution_count": 7,
   "id": "919b9837",
   "metadata": {},
   "outputs": [
    {
     "data": {
      "application/vnd.microsoft.datawrangler.viewer.v0+json": {
       "columns": [
        {
         "name": "index",
         "rawType": "object",
         "type": "string"
        },
        {
         "name": "protein_sequence",
         "rawType": "float64",
         "type": "float"
        }
       ],
       "ref": "60014d47-eb1f-4de6-b4a8-abcaa4edf00c",
       "rows": [
        [
         "count",
         "10715.0"
        ],
        [
         "mean",
         "565.0"
        ],
        [
         "std",
         "0.0"
        ],
        [
         "min",
         "565.0"
        ],
        [
         "25%",
         "565.0"
        ],
        [
         "50%",
         "565.0"
        ],
        [
         "75%",
         "565.0"
        ],
        [
         "max",
         "565.0"
        ]
       ],
       "shape": {
        "columns": 1,
        "rows": 8
       }
      },
      "text/plain": [
       "count    10715.0\n",
       "mean       565.0\n",
       "std          0.0\n",
       "min        565.0\n",
       "25%        565.0\n",
       "50%        565.0\n",
       "75%        565.0\n",
       "max        565.0\n",
       "Name: protein_sequence, dtype: float64"
      ]
     },
     "execution_count": 7,
     "metadata": {},
     "output_type": "execute_result"
    }
   ],
   "source": [
    "protein_df['protein_sequence'].str.len().describe() # Check the maximum length of the protein sequences"
   ]
  },
  {
   "cell_type": "code",
   "execution_count": 4,
   "id": "ce3f3cc6",
   "metadata": {},
   "outputs": [],
   "source": [
    "import proteinmlutils.featurizer as protfeat"
   ]
  },
  {
   "cell_type": "code",
   "execution_count": 9,
   "id": "80b6bcd1",
   "metadata": {},
   "outputs": [
    {
     "data": {
      "text/plain": [
       "np.int64(565)"
      ]
     },
     "execution_count": 9,
     "metadata": {},
     "output_type": "execute_result"
    }
   ],
   "source": [
    " protein_df['protein_sequence'].str.len().max()"
   ]
  },
  {
   "cell_type": "code",
   "execution_count": 17,
   "id": "03457060",
   "metadata": {},
   "outputs": [],
   "source": [
    "max_length = int(protein_df['protein_sequence'].str.len().max())  # Get the maximum length of the sequences\n",
    "sequence_arr = protein_df['protein_sequence'].tolist()\n",
    "X_arr=protfeat.protein_one_hot_encoder(sequence_arr, max_length=max_length, flatten=True)"
   ]
  },
  {
   "cell_type": "code",
   "execution_count": 18,
   "id": "d21c9b72",
   "metadata": {},
   "outputs": [],
   "source": [
    "assert X_arr.shape == (len(protein_df), max_length * 21), \"The shape of the one-hot encoded array does not match the expected shape\""
   ]
  },
  {
   "cell_type": "code",
   "execution_count": null,
   "id": "a8c48051",
   "metadata": {},
   "outputs": [],
   "source": []
  },
  {
   "cell_type": "code",
   "execution_count": 19,
   "id": "e494306d",
   "metadata": {},
   "outputs": [
    {
     "ename": "ValueError",
     "evalue": "too many values to unpack (expected 2)",
     "output_type": "error",
     "traceback": [
      "\u001b[31m---------------------------------------------------------------------------\u001b[39m",
      "\u001b[31mValueError\u001b[39m                                Traceback (most recent call last)",
      "\u001b[36mCell\u001b[39m\u001b[36m \u001b[39m\u001b[32mIn[19]\u001b[39m\u001b[32m, line 1\u001b[39m\n\u001b[32m----> \u001b[39m\u001b[32m1\u001b[39m embedding_arr, embedding_weights=protfeat.protein_embedding_generator(sequence_arr, max_length, embedding_dim=\u001b[32m5\u001b[39m, flatten=\u001b[38;5;28;01mFalse\u001b[39;00m)\n",
      "\u001b[31mValueError\u001b[39m: too many values to unpack (expected 2)"
     ]
    }
   ],
   "source": [
    "embedding_arr, embedding_weights=protfeat.protein_embedding_generator(sequence_arr, max_length, embedding_dim=5, flatten=False)"
   ]
  },
  {
   "cell_type": "code",
   "execution_count": null,
   "id": "65985885",
   "metadata": {},
   "outputs": [],
   "source": []
  }
 ],
 "metadata": {
  "kernelspec": {
   "display_name": "protein_ml_utils",
   "language": "python",
   "name": "python3"
  },
  "language_info": {
   "codemirror_mode": {
    "name": "ipython",
    "version": 3
   },
   "file_extension": ".py",
   "mimetype": "text/x-python",
   "name": "python",
   "nbconvert_exporter": "python",
   "pygments_lexer": "ipython3",
   "version": "3.12.11"
  }
 },
 "nbformat": 4,
 "nbformat_minor": 5
}
