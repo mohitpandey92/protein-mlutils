{
 "cells": [
  {
   "cell_type": "code",
   "execution_count": 2,
   "id": "b42eda6d",
   "metadata": {},
   "outputs": [],
   "source": [
    "import sklearn\n",
    "import pandas as pd\n",
    "from sklearn.model_selection import train_test_split"
   ]
  },
  {
   "cell_type": "code",
   "execution_count": 14,
   "id": "ff4c55d6",
   "metadata": {},
   "outputs": [],
   "source": [
    "protein_df=pd.read_csv(\"../data/A0A2Z5U3Z0_9INFA_Doud_2016.csv\")\n",
    "protein_df.rename(columns={\"mutated_sequence\": \"protein_sequence\"}, inplace=True)"
   ]
  },
  {
   "cell_type": "code",
   "execution_count": 15,
   "id": "7f68e31b",
   "metadata": {},
   "outputs": [],
   "source": [
    "#check if the protein_sequence column has unique values\n",
    "assert len(protein_df['protein_sequence'].unique()) == len(protein_df), \"The 'protein_sequence' column does not have unique values\"\n"
   ]
  },
  {
   "cell_type": "code",
   "execution_count": null,
   "id": "64218cc6",
   "metadata": {},
   "outputs": [],
   "source": [
    "#featurize protein sequences\n",
    "from pymlutils.feature_extraction import ProteinFeaturizer\n",
    "\n",
    "#one-hot encoding of protein sequences\n",
    "def one_hot_encode(sequence, max_length=None):\n",
    "    amino_acids = 'ACDEFGHIKLMNPQRSTVWY'\n",
    "    encoding = {aa: i for i, aa in enumerate(amino_acids)}\n",
    "    one_hot = [[0] * len(amino_acids) for _ in range(len(sequence))]\n",
    "    for i, aa in enumerate(sequence):\n",
    "        if aa in encoding:\n",
    "            one_hot[i][encoding[aa]] = 1\n",
    "    if max_length is not None:\n",
    "        one_hot = one_hot[:max_length] + [[0] * len(amino_acids)] * (max_length - len(one_hot))\n",
    "    else:\n",
    "        max_length = len(one_hot)\n",
    "    return one_hot\n",
    "\n",
    "\n",
    "protein_featurizer = ProteinFeaturizer()\n",
    "protein_selected_df = protein_featurizer.fit_transform(protein_df, \"protein_sequence\", \"activity\")"
   ]
  },
  {
   "cell_type": "code",
   "execution_count": null,
   "id": "5cbe84f8",
   "metadata": {},
   "outputs": [],
   "source": [
    "#split the data into training and testing sets\n",
    "X_train, X_test, y_train, y_test = sklearn.model_selection.train_test_split(housing_df.drop(columns='MedHouseVal'), housing_df['MedHouseVal'], test_size=0.2, random_state=42)\n"
   ]
  },
  {
   "cell_type": "code",
   "execution_count": null,
   "id": "aba8f111",
   "metadata": {},
   "outputs": [
    {
     "data": {
      "application/vnd.microsoft.datawrangler.viewer.v0+json": {
       "columns": [
        {
         "name": "index",
         "rawType": "int64",
         "type": "integer"
        },
        {
         "name": "MedInc",
         "rawType": "float64",
         "type": "float"
        },
        {
         "name": "HouseAge",
         "rawType": "float64",
         "type": "float"
        },
        {
         "name": "AveRooms",
         "rawType": "float64",
         "type": "float"
        },
        {
         "name": "AveBedrms",
         "rawType": "float64",
         "type": "float"
        },
        {
         "name": "Population",
         "rawType": "float64",
         "type": "float"
        },
        {
         "name": "AveOccup",
         "rawType": "float64",
         "type": "float"
        },
        {
         "name": "Latitude",
         "rawType": "float64",
         "type": "float"
        },
        {
         "name": "Longitude",
         "rawType": "float64",
         "type": "float"
        },
        {
         "name": "MedHouseVal",
         "rawType": "float64",
         "type": "float"
        },
        {
         "name": "Train_vs_Test",
         "rawType": "object",
         "type": "string"
        }
       ],
       "ref": "301a80ad-fb1c-43d2-98d9-cdd96937a1cc",
       "rows": [
        [
         "0",
         "3.2596",
         "33.0",
         "5.017656500802568",
         "1.0064205457463884",
         "2300.0",
         "3.691813804173355",
         "32.71",
         "-117.03",
         "1.03",
         "Train"
        ],
        [
         "1",
         "3.8125",
         "49.0",
         "4.473544973544974",
         "1.041005291005291",
         "1314.0",
         "1.7380952380952381",
         "33.77",
         "-118.16",
         "3.821",
         "Train"
        ],
        [
         "2",
         "4.1563",
         "4.0",
         "5.645833333333333",
         "0.9851190476190477",
         "915.0",
         "2.7232142857142856",
         "34.66",
         "-120.48",
         "1.726",
         "Train"
        ],
        [
         "3",
         "1.9425",
         "36.0",
         "4.002816901408451",
         "1.0338028169014084",
         "1418.0",
         "3.9943661971830986",
         "32.69",
         "-117.11",
         "0.934",
         "Train"
        ],
        [
         "4",
         "3.5542",
         "43.0",
         "6.268421052631579",
         "1.1342105263157896",
         "874.0",
         "2.3",
         "36.78",
         "-119.8",
         "0.965",
         "Train"
        ]
       ],
       "shape": {
        "columns": 10,
        "rows": 5
       }
      },
      "text/html": [
       "<div>\n",
       "<style scoped>\n",
       "    .dataframe tbody tr th:only-of-type {\n",
       "        vertical-align: middle;\n",
       "    }\n",
       "\n",
       "    .dataframe tbody tr th {\n",
       "        vertical-align: top;\n",
       "    }\n",
       "\n",
       "    .dataframe thead th {\n",
       "        text-align: right;\n",
       "    }\n",
       "</style>\n",
       "<table border=\"1\" class=\"dataframe\">\n",
       "  <thead>\n",
       "    <tr style=\"text-align: right;\">\n",
       "      <th></th>\n",
       "      <th>MedInc</th>\n",
       "      <th>HouseAge</th>\n",
       "      <th>AveRooms</th>\n",
       "      <th>AveBedrms</th>\n",
       "      <th>Population</th>\n",
       "      <th>AveOccup</th>\n",
       "      <th>Latitude</th>\n",
       "      <th>Longitude</th>\n",
       "      <th>MedHouseVal</th>\n",
       "      <th>Train_vs_Test</th>\n",
       "    </tr>\n",
       "  </thead>\n",
       "  <tbody>\n",
       "    <tr>\n",
       "      <th>0</th>\n",
       "      <td>3.2596</td>\n",
       "      <td>33.0</td>\n",
       "      <td>5.017657</td>\n",
       "      <td>1.006421</td>\n",
       "      <td>2300.0</td>\n",
       "      <td>3.691814</td>\n",
       "      <td>32.71</td>\n",
       "      <td>-117.03</td>\n",
       "      <td>1.030</td>\n",
       "      <td>Train</td>\n",
       "    </tr>\n",
       "    <tr>\n",
       "      <th>1</th>\n",
       "      <td>3.8125</td>\n",
       "      <td>49.0</td>\n",
       "      <td>4.473545</td>\n",
       "      <td>1.041005</td>\n",
       "      <td>1314.0</td>\n",
       "      <td>1.738095</td>\n",
       "      <td>33.77</td>\n",
       "      <td>-118.16</td>\n",
       "      <td>3.821</td>\n",
       "      <td>Train</td>\n",
       "    </tr>\n",
       "    <tr>\n",
       "      <th>2</th>\n",
       "      <td>4.1563</td>\n",
       "      <td>4.0</td>\n",
       "      <td>5.645833</td>\n",
       "      <td>0.985119</td>\n",
       "      <td>915.0</td>\n",
       "      <td>2.723214</td>\n",
       "      <td>34.66</td>\n",
       "      <td>-120.48</td>\n",
       "      <td>1.726</td>\n",
       "      <td>Train</td>\n",
       "    </tr>\n",
       "    <tr>\n",
       "      <th>3</th>\n",
       "      <td>1.9425</td>\n",
       "      <td>36.0</td>\n",
       "      <td>4.002817</td>\n",
       "      <td>1.033803</td>\n",
       "      <td>1418.0</td>\n",
       "      <td>3.994366</td>\n",
       "      <td>32.69</td>\n",
       "      <td>-117.11</td>\n",
       "      <td>0.934</td>\n",
       "      <td>Train</td>\n",
       "    </tr>\n",
       "    <tr>\n",
       "      <th>4</th>\n",
       "      <td>3.5542</td>\n",
       "      <td>43.0</td>\n",
       "      <td>6.268421</td>\n",
       "      <td>1.134211</td>\n",
       "      <td>874.0</td>\n",
       "      <td>2.300000</td>\n",
       "      <td>36.78</td>\n",
       "      <td>-119.80</td>\n",
       "      <td>0.965</td>\n",
       "      <td>Train</td>\n",
       "    </tr>\n",
       "  </tbody>\n",
       "</table>\n",
       "</div>"
      ],
      "text/plain": [
       "   MedInc  HouseAge  AveRooms  AveBedrms  Population  AveOccup  Latitude  \\\n",
       "0  3.2596      33.0  5.017657   1.006421      2300.0  3.691814     32.71   \n",
       "1  3.8125      49.0  4.473545   1.041005      1314.0  1.738095     33.77   \n",
       "2  4.1563       4.0  5.645833   0.985119       915.0  2.723214     34.66   \n",
       "3  1.9425      36.0  4.002817   1.033803      1418.0  3.994366     32.69   \n",
       "4  3.5542      43.0  6.268421   1.134211       874.0  2.300000     36.78   \n",
       "\n",
       "   Longitude  MedHouseVal Train_vs_Test  \n",
       "0    -117.03        1.030         Train  \n",
       "1    -118.16        3.821         Train  \n",
       "2    -120.48        1.726         Train  \n",
       "3    -117.11        0.934         Train  \n",
       "4    -119.80        0.965         Train  "
      ]
     },
     "execution_count": 36,
     "metadata": {},
     "output_type": "execute_result"
    }
   ],
   "source": [
    "#create a dataframe with both training and testing data\n",
    "housing_with_train_vs_test_df = pd.concat([X_train, X_test], axis=0).reset_index(drop=True)\n",
    "housing_with_train_vs_test_df['MedHouseVal'] = pd.concat([y_train, y_test], axis=0).values\n",
    "housing_with_train_vs_test_df[\"Train_vs_Test\"] = [\"Train\"] * len(X_train) + [\"Test\"] * len(X_test)\n",
    "housing_with_train_vs_test_df.head()"
   ]
  },
  {
   "cell_type": "code",
   "execution_count": null,
   "id": "65985885",
   "metadata": {},
   "outputs": [],
   "source": []
  }
 ],
 "metadata": {
  "kernelspec": {
   "display_name": "ML_env",
   "language": "python",
   "name": "python3"
  },
  "language_info": {
   "codemirror_mode": {
    "name": "ipython",
    "version": 3
   },
   "file_extension": ".py",
   "mimetype": "text/x-python",
   "name": "python",
   "nbconvert_exporter": "python",
   "pygments_lexer": "ipython3",
   "version": "3.12.2"
  }
 },
 "nbformat": 4,
 "nbformat_minor": 5
}
