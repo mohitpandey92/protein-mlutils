{
 "cells": [
  {
   "cell_type": "code",
   "execution_count": null,
   "id": "b42eda6d",
   "metadata": {},
   "outputs": [],
   "source": [
    "import sklearn\n",
    "import pandas as pd\n",
    "\n",
    "\n",
    "from sklearn.model_selection import train_test_split"
   ]
  },
  {
   "cell_type": "code",
   "execution_count": 2,
   "id": "ff4c55d6",
   "metadata": {},
   "outputs": [],
   "source": [
    "protein_df=pd.read_csv(\"../data/A0A2Z5U3Z0_9INFA_Doud_2016.csv\")\n",
    "protein_df.rename(columns={\"mutated_sequence\": \"protein_sequence\"}, inplace=True)"
   ]
  },
  {
   "cell_type": "code",
   "execution_count": 4,
   "id": "7f68e31b",
   "metadata": {},
   "outputs": [],
   "source": [
    "#check if the protein_sequence column has unique values\n",
    "assert len(protein_df['protein_sequence'].unique()) == len(protein_df), \"The 'protein_sequence' column does not have unique values\"\n"
   ]
  },
  {
   "cell_type": "code",
   "execution_count": 6,
   "id": "ce3f3cc6",
   "metadata": {},
   "outputs": [],
   "source": [
    "import proteinmlutils.featurizer as protfeat"
   ]
  },
  {
   "cell_type": "code",
   "execution_count": 7,
   "id": "03457060",
   "metadata": {},
   "outputs": [
    {
     "ename": "NameError",
     "evalue": "name 'np' is not defined",
     "output_type": "error",
     "traceback": [
      "\u001b[31m---------------------------------------------------------------------------\u001b[39m",
      "\u001b[31mNameError\u001b[39m                                 Traceback (most recent call last)",
      "\u001b[36mCell\u001b[39m\u001b[36m \u001b[39m\u001b[32mIn[7]\u001b[39m\u001b[32m, line 1\u001b[39m\n\u001b[32m----> \u001b[39m\u001b[32m1\u001b[39m \u001b[43mprotfeat\u001b[49m\u001b[43m.\u001b[49m\u001b[43mprotein_one_hot_encoder\u001b[49m\u001b[43m(\u001b[49m\u001b[43mprotein_df\u001b[49m\u001b[43m[\u001b[49m\u001b[33;43m'\u001b[39;49m\u001b[33;43mprotein_sequence\u001b[39;49m\u001b[33;43m'\u001b[39;49m\u001b[43m]\u001b[49m\u001b[43m.\u001b[49m\u001b[43mtolist\u001b[49m\u001b[43m(\u001b[49m\u001b[43m)\u001b[49m\u001b[43m,\u001b[49m\u001b[43m \u001b[49m\u001b[43mmax_length\u001b[49m\u001b[43m=\u001b[49m\u001b[32;43m10\u001b[39;49m\u001b[43m)\u001b[49m\n",
      "\u001b[36mFile \u001b[39m\u001b[32m/opt/anaconda3/envs/protein_ml_utils/lib/python3.12/site-packages/proteinmlutils/featurizer.py:42\u001b[39m, in \u001b[36mprotein_one_hot_encoder\u001b[39m\u001b[34m(sequence, max_length, flatten)\u001b[39m\n\u001b[32m     40\u001b[39m         one_hot = one_hot.flatten(order=\u001b[33m'\u001b[39m\u001b[33mF\u001b[39m\u001b[33m'\u001b[39m)\n\u001b[32m     41\u001b[39m     \u001b[38;5;28;01mreturn\u001b[39;00m one_hot\n\u001b[32m---> \u001b[39m\u001b[32m42\u001b[39m \u001b[38;5;28;01melif\u001b[39;00m \u001b[38;5;28misinstance\u001b[39m(sequence, (\u001b[38;5;28mlist\u001b[39m, \u001b[43mnp\u001b[49m.ndarray)):\n\u001b[32m     43\u001b[39m     \u001b[38;5;66;03m# If the sequence is a list, we need to process each element\u001b[39;00m\n\u001b[32m     44\u001b[39m     one_hot_list = []\n\u001b[32m     45\u001b[39m     \u001b[38;5;28;01mfor\u001b[39;00m seq \u001b[38;5;129;01min\u001b[39;00m sequence:\n",
      "\u001b[31mNameError\u001b[39m: name 'np' is not defined"
     ]
    }
   ],
   "source": [
    "protfeat.protein_one_hot_encoder(protein_df['protein_sequence'].tolist(), max_length=10)"
   ]
  },
  {
   "cell_type": "code",
   "execution_count": 42,
   "id": "617294ce",
   "metadata": {},
   "outputs": [
    {
     "name": "stdout",
     "output_type": "stream",
     "text": [
      "[[1 0 0 0 0 0 0 0 0 0 0 0 0 0 0 0 0 0 0 0 0 0 1 0 0 0 0 0 0 0 0 0 0 0 0 0\n",
      "  0 0 0 0 0 0 0 1 0 0 0 0 0 0 0 0 0 0 0 0 0 0 0 0 0 0 0]\n",
      " [1 0 0 0 0 0 0 0 0 0 0 0 0 0 0 0 0 0 0 0 0 1 0 0 0 0 0 0 0 0 0 0 0 0 0 0\n",
      "  0 0 0 0 0 0 1 0 0 0 0 0 0 0 0 0 0 0 0 0 0 0 0 0 0 0 0]]\n"
     ]
    }
   ],
   "source": [
    "sequence=[\"ACC\", \"AAA\"]\n",
    "max_length = 3\n",
    "one_hot = protein_one_hot_encoder(sequence, max_length)\n",
    "print(one_hot)"
   ]
  },
  {
   "cell_type": "code",
   "execution_count": 44,
   "id": "e494306d",
   "metadata": {},
   "outputs": [],
   "source": [
    "embedding_arr, embedding_weights=protein_embedding_generator(sequence, max_length, embedding_dim=5, flatten=False)"
   ]
  },
  {
   "cell_type": "code",
   "execution_count": null,
   "id": "65985885",
   "metadata": {},
   "outputs": [],
   "source": []
  }
 ],
 "metadata": {
  "kernelspec": {
   "display_name": "protein_ml_utils",
   "language": "python",
   "name": "python3"
  },
  "language_info": {
   "codemirror_mode": {
    "name": "ipython",
    "version": 3
   },
   "file_extension": ".py",
   "mimetype": "text/x-python",
   "name": "python",
   "nbconvert_exporter": "python",
   "pygments_lexer": "ipython3",
   "version": "3.12.11"
  }
 },
 "nbformat": 4,
 "nbformat_minor": 5
}
