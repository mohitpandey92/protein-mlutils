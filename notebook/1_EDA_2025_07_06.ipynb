{
 "cells": [
  {
   "cell_type": "code",
   "execution_count": 1,
   "id": "b42eda6d",
   "metadata": {},
   "outputs": [],
   "source": [
    "import sklearn\n",
    "import pandas as pd\n",
    "\n",
    "\n",
    "from sklearn.model_selection import train_test_split"
   ]
  },
  {
   "cell_type": "code",
   "execution_count": 2,
   "id": "ff4c55d6",
   "metadata": {},
   "outputs": [],
   "source": [
    "protein_df=pd.read_csv(\"../data/A0A2Z5U3Z0_9INFA_Doud_2016.csv\")\n",
    "protein_df.rename(columns={\"mutated_sequence\": \"protein_sequence\"}, inplace=True)"
   ]
  },
  {
   "cell_type": "code",
   "execution_count": 3,
   "id": "7f68e31b",
   "metadata": {},
   "outputs": [],
   "source": [
    "#check if the protein_sequence column has unique values\n",
    "assert len(protein_df['protein_sequence'].unique()) == len(protein_df), \"The 'protein_sequence' column does not have unique values\"\n"
   ]
  },
  {
   "cell_type": "code",
   "execution_count": 4,
   "id": "919b9837",
   "metadata": {},
   "outputs": [
    {
     "data": {
      "application/vnd.microsoft.datawrangler.viewer.v0+json": {
       "columns": [
        {
         "name": "index",
         "rawType": "object",
         "type": "string"
        },
        {
         "name": "protein_sequence",
         "rawType": "float64",
         "type": "float"
        }
       ],
       "ref": "3a023324-1534-4840-83e0-24985721c78c",
       "rows": [
        [
         "count",
         "10715.0"
        ],
        [
         "mean",
         "565.0"
        ],
        [
         "std",
         "0.0"
        ],
        [
         "min",
         "565.0"
        ],
        [
         "25%",
         "565.0"
        ],
        [
         "50%",
         "565.0"
        ],
        [
         "75%",
         "565.0"
        ],
        [
         "max",
         "565.0"
        ]
       ],
       "shape": {
        "columns": 1,
        "rows": 8
       }
      },
      "text/plain": [
       "count    10715.0\n",
       "mean       565.0\n",
       "std          0.0\n",
       "min        565.0\n",
       "25%        565.0\n",
       "50%        565.0\n",
       "75%        565.0\n",
       "max        565.0\n",
       "Name: protein_sequence, dtype: float64"
      ]
     },
     "execution_count": 4,
     "metadata": {},
     "output_type": "execute_result"
    }
   ],
   "source": [
    "protein_df['protein_sequence'].str.len().describe() # Check the maximum length of the protein sequences"
   ]
  },
  {
   "cell_type": "code",
   "execution_count": 5,
   "id": "ce3f3cc6",
   "metadata": {},
   "outputs": [],
   "source": [
    "import proteinmlutils.featurizer as protfeat"
   ]
  },
  {
   "cell_type": "code",
   "execution_count": 22,
   "id": "03457060",
   "metadata": {},
   "outputs": [
    {
     "name": "stdout",
     "output_type": "stream",
     "text": [
      "(10715, 11865)\n"
     ]
    }
   ],
   "source": [
    "max_length = int(protein_df['protein_sequence'].str.len().max())  # Get the maximum length of the sequences\n",
    "sequence_arr = protein_df['protein_sequence'].tolist()\n",
    "X_arr=protfeat.protein_one_hot_encoder(sequence_arr, max_length=max_length, flatten=True)\n",
    "print(X_arr.shape)  # Check the shape of the one-hot encoded array"
   ]
  },
  {
   "cell_type": "code",
   "execution_count": 23,
   "id": "d21c9b72",
   "metadata": {},
   "outputs": [],
   "source": [
    "assert X_arr.shape == (len(protein_df), max_length * 21), \"The shape of the one-hot encoded array does not match the expected shape\""
   ]
  },
  {
   "cell_type": "code",
   "execution_count": 29,
   "id": "e494306d",
   "metadata": {},
   "outputs": [],
   "source": [
    "embedding_arr, embedding_weight=protfeat.protein_embedding_generator(sequence_arr, max_length, embedding_dim=5, flatten=False)"
   ]
  },
  {
   "cell_type": "code",
   "execution_count": 30,
   "id": "a069628a",
   "metadata": {},
   "outputs": [
    {
     "data": {
      "text/plain": [
       "(10715, 565, 5)"
      ]
     },
     "execution_count": 30,
     "metadata": {},
     "output_type": "execute_result"
    }
   ],
   "source": [
    "embedding_arr.shape"
   ]
  },
  {
   "cell_type": "code",
   "execution_count": 37,
   "id": "724dc59f",
   "metadata": {},
   "outputs": [
    {
     "data": {
      "text/plain": [
       "(10715, 2825)"
      ]
     },
     "execution_count": 37,
     "metadata": {},
     "output_type": "execute_result"
    }
   ],
   "source": [
    "#flatten the embedding array but keep the first dimension intact\n",
    "embedding_arr_flattened = embedding_arr.reshape(embedding_arr.shape[0], -1)\n",
    "embedding_arr_flattened.shape"
   ]
  },
  {
   "cell_type": "code",
   "execution_count": 38,
   "id": "5ea41e46",
   "metadata": {},
   "outputs": [
    {
     "data": {
      "text/plain": [
       "(10715, 2825)"
      ]
     },
     "execution_count": 38,
     "metadata": {},
     "output_type": "execute_result"
    }
   ],
   "source": [
    "embedding_arr.reshape(embedding_arr.shape[0], -1).shape"
   ]
  },
  {
   "cell_type": "code",
   "execution_count": 39,
   "id": "6b72eb60",
   "metadata": {},
   "outputs": [
    {
     "data": {
      "text/plain": [
       "10715"
      ]
     },
     "execution_count": 39,
     "metadata": {},
     "output_type": "execute_result"
    }
   ],
   "source": [
    "embedding_arr.shape[0]"
   ]
  },
  {
   "cell_type": "code",
   "execution_count": 36,
   "id": "9194af05",
   "metadata": {},
   "outputs": [
    {
     "data": {
      "text/plain": [
       "(30267050,)"
      ]
     },
     "execution_count": 36,
     "metadata": {},
     "output_type": "execute_result"
    }
   ],
   "source": [
    "import numpy as np\n",
    "embedding_arr_flattened = embedding_arr[0:-1,:,:].flatten()\n",
    "embedding_arr_flattened.shape"
   ]
  },
  {
   "cell_type": "code",
   "execution_count": null,
   "id": "1ab1e055",
   "metadata": {},
   "outputs": [],
   "source": []
  }
 ],
 "metadata": {
  "kernelspec": {
   "display_name": "protein_ml_utils",
   "language": "python",
   "name": "python3"
  },
  "language_info": {
   "codemirror_mode": {
    "name": "ipython",
    "version": 3
   },
   "file_extension": ".py",
   "mimetype": "text/x-python",
   "name": "python",
   "nbconvert_exporter": "python",
   "pygments_lexer": "ipython3",
   "version": "3.12.11"
  }
 },
 "nbformat": 4,
 "nbformat_minor": 5
}
