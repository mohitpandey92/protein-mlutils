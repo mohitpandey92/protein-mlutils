{
 "cells": [
  {
   "cell_type": "code",
   "execution_count": 1,
   "id": "b42eda6d",
   "metadata": {},
   "outputs": [],
   "source": [
    "import sklearn\n",
    "import pandas as pd\n",
    "\n",
    "\n",
    "from sklearn.model_selection import train_test_split"
   ]
  },
  {
   "cell_type": "code",
   "execution_count": 2,
   "id": "ff4c55d6",
   "metadata": {},
   "outputs": [],
   "source": [
    "protein_df=pd.read_csv(\"../data/A0A2Z5U3Z0_9INFA_Doud_2016.csv\")\n",
    "protein_df.rename(columns={\"mutated_sequence\": \"protein_sequence\"}, inplace=True)"
   ]
  },
  {
   "cell_type": "code",
   "execution_count": 3,
   "id": "7f68e31b",
   "metadata": {},
   "outputs": [],
   "source": [
    "#check if the protein_sequence column has unique values\n",
    "assert len(protein_df['protein_sequence'].unique()) == len(protein_df), \"The 'protein_sequence' column does not have unique values\"\n"
   ]
  },
  {
   "cell_type": "code",
   "execution_count": 4,
   "id": "919b9837",
   "metadata": {},
   "outputs": [
    {
     "data": {
      "application/vnd.microsoft.datawrangler.viewer.v0+json": {
       "columns": [
        {
         "name": "index",
         "rawType": "object",
         "type": "string"
        },
        {
         "name": "protein_sequence",
         "rawType": "float64",
         "type": "float"
        }
       ],
       "ref": "f2d77b95-f379-424f-af78-f22cb6f98aaa",
       "rows": [
        [
         "count",
         "10715.0"
        ],
        [
         "mean",
         "565.0"
        ],
        [
         "std",
         "0.0"
        ],
        [
         "min",
         "565.0"
        ],
        [
         "25%",
         "565.0"
        ],
        [
         "50%",
         "565.0"
        ],
        [
         "75%",
         "565.0"
        ],
        [
         "max",
         "565.0"
        ]
       ],
       "shape": {
        "columns": 1,
        "rows": 8
       }
      },
      "text/plain": [
       "count    10715.0\n",
       "mean       565.0\n",
       "std          0.0\n",
       "min        565.0\n",
       "25%        565.0\n",
       "50%        565.0\n",
       "75%        565.0\n",
       "max        565.0\n",
       "Name: protein_sequence, dtype: float64"
      ]
     },
     "execution_count": 4,
     "metadata": {},
     "output_type": "execute_result"
    }
   ],
   "source": [
    "protein_df['protein_sequence'].str.len().describe() # Check the maximum length of the protein sequences"
   ]
  },
  {
   "cell_type": "code",
   "execution_count": 5,
   "id": "ce3f3cc6",
   "metadata": {},
   "outputs": [],
   "source": [
    "import proteinmlutils.featurizer as protfeat"
   ]
  },
  {
   "cell_type": "code",
   "execution_count": 6,
   "id": "80b6bcd1",
   "metadata": {},
   "outputs": [
    {
     "data": {
      "text/plain": [
       "np.int64(565)"
      ]
     },
     "execution_count": 6,
     "metadata": {},
     "output_type": "execute_result"
    }
   ],
   "source": [
    " protein_df['protein_sequence'].str.len().max()"
   ]
  },
  {
   "cell_type": "code",
   "execution_count": 7,
   "id": "03457060",
   "metadata": {},
   "outputs": [],
   "source": [
    "max_length = int(protein_df['protein_sequence'].str.len().max())  # Get the maximum length of the sequences\n",
    "sequence_arr = protein_df['protein_sequence'].tolist()\n",
    "X_arr=protfeat.protein_one_hot_encoder(sequence_arr, max_length=max_length, flatten=True)"
   ]
  },
  {
   "cell_type": "code",
   "execution_count": 8,
   "id": "d21c9b72",
   "metadata": {},
   "outputs": [],
   "source": [
    "assert X_arr.shape == (len(protein_df), max_length * 21), \"The shape of the one-hot encoded array does not match the expected shape\""
   ]
  },
  {
   "cell_type": "code",
   "execution_count": null,
   "id": "a8c48051",
   "metadata": {},
   "outputs": [],
   "source": []
  },
  {
   "cell_type": "code",
   "execution_count": 16,
   "id": "e494306d",
   "metadata": {},
   "outputs": [],
   "source": [
    "embedding_arr, weight=protfeat.protein_embedding_generator(sequence_arr[0], max_length, embedding_dim=5, flatten=True)"
   ]
  },
  {
   "cell_type": "code",
   "execution_count": 15,
   "id": "a069628a",
   "metadata": {},
   "outputs": [
    {
     "data": {
      "text/plain": [
       "(30269875,)"
      ]
     },
     "execution_count": 15,
     "metadata": {},
     "output_type": "execute_result"
    }
   ],
   "source": [
    "embedding_arr.shape"
   ]
  },
  {
   "cell_type": "code",
   "execution_count": 17,
   "id": "dc25984d",
   "metadata": {},
   "outputs": [
    {
     "data": {
      "text/plain": [
       "(array([-0.24352519, -0.6758793 , -0.7384599 , ...,  0.2991672 ,\n",
       "         1.1736617 ,  0.07188122], shape=(2825,), dtype=float32),\n",
       " array([[-0.49192792, -0.6644693 ,  0.34047356, -0.5131858 ,  0.3605785 ],\n",
       "        [ 0.81026036, -0.5859225 ,  0.2368468 ,  1.2940038 , -0.71160066],\n",
       "        [ 0.44144976, -0.10073431,  0.76928663,  0.30192327,  0.12680796],\n",
       "        [-1.2758539 ,  0.42919293,  0.5005071 , -0.07151444,  1.2446791 ],\n",
       "        [ 1.1743567 ,  0.9815312 , -0.82126004,  0.440434  , -0.83677906],\n",
       "        [ 0.19413057, -1.0603265 , -0.5508587 , -1.0963631 ,  0.24746579],\n",
       "        [-0.8176529 ,  0.8133384 ,  0.46767625, -0.9915381 , -0.0172778 ],\n",
       "        [ 0.4788379 , -0.5080616 ,  0.2991672 ,  1.1736617 ,  0.07188122],\n",
       "        [ 0.5302875 , -0.7313178 ,  0.5336948 ,  0.2433222 ,  0.49919885],\n",
       "        [-0.59289664, -0.9102099 ,  1.9847883 ,  2.0457933 , -1.1214373 ],\n",
       "        [-0.24352519, -0.6758793 , -0.7384599 ,  0.08106493,  0.5873115 ],\n",
       "        [ 1.8504373 , -0.07417773,  0.50968814,  0.7383307 , -1.252099  ],\n",
       "        [-0.22060579,  0.32197636, -1.0385746 ,  0.27602068, -0.0991998 ],\n",
       "        [-0.05392452,  0.35481736, -0.20341298, -1.5521106 ,  0.38682544],\n",
       "        [-0.6845784 , -0.05018719,  0.6464558 , -0.9247571 , -1.6828034 ],\n",
       "        [ 1.6559762 ,  0.20975472, -0.1220088 ,  0.36316773, -0.42083126],\n",
       "        [ 0.75479066, -1.7501488 ,  0.39535522, -0.10567299, -0.62313986],\n",
       "        [-0.12368499,  1.3670285 , -1.6072065 , -1.3337408 , -0.75031435],\n",
       "        [ 0.11026582, -0.08428116,  0.0395936 , -0.00523148,  0.14343044],\n",
       "        [ 0.8898971 , -1.6502057 ,  0.8806208 , -0.7190291 , -0.29471576],\n",
       "        [-1.713321  , -0.19506636,  2.0498226 , -0.06849729,  0.78417015]],\n",
       "       dtype=float32))"
      ]
     },
     "execution_count": 17,
     "metadata": {},
     "output_type": "execute_result"
    }
   ],
   "source": [
    "embedding_arr, weight"
   ]
  },
  {
   "cell_type": "code",
   "execution_count": null,
   "id": "724dc59f",
   "metadata": {},
   "outputs": [],
   "source": []
  }
 ],
 "metadata": {
  "kernelspec": {
   "display_name": "protein_ml_utils",
   "language": "python",
   "name": "python3"
  },
  "language_info": {
   "codemirror_mode": {
    "name": "ipython",
    "version": 3
   },
   "file_extension": ".py",
   "mimetype": "text/x-python",
   "name": "python",
   "nbconvert_exporter": "python",
   "pygments_lexer": "ipython3",
   "version": "3.12.11"
  }
 },
 "nbformat": 4,
 "nbformat_minor": 5
}
